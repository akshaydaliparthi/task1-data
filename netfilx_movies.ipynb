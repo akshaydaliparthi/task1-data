{
 "cells": [
  {
   "cell_type": "code",
   "execution_count": 1,
   "id": "d17a46e9-6efe-43b3-8afa-e33195f0935b",
   "metadata": {},
   "outputs": [],
   "source": [
    "import pandas as pd"
   ]
  },
  {
   "cell_type": "code",
   "execution_count": 2,
   "id": "63b6e7c7-beac-422b-a1a6-09d4817f4196",
   "metadata": {},
   "outputs": [],
   "source": [
    "movies_data = pd.read_csv(\"C:\\\\Users\\\\Akshay Chand\\\\Desktop\\\\pdf\\\\movies.csv\")"
   ]
  },
  {
   "cell_type": "code",
   "execution_count": 4,
   "id": "720bf77f-d6c7-41af-a101-600e052503a8",
   "metadata": {},
   "outputs": [
    {
     "name": "stdout",
     "output_type": "stream",
     "text": [
      "  show_id     type  title           director  \\\n",
      "0      s1  TV Show     3%                NaN   \n",
      "1      s2    Movie   7:19  Jorge Michel Grau   \n",
      "2      s3    Movie  23:59       Gilbert Chan   \n",
      "3      s4    Movie      9        Shane Acker   \n",
      "4      s5    Movie     21     Robert Luketic   \n",
      "\n",
      "                                                cast        country  \\\n",
      "0  João Miguel, Bianca Comparato, Michel Gomes, R...         Brazil   \n",
      "1  Demián Bichir, Héctor Bonilla, Oscar Serrano, ...         Mexico   \n",
      "2  Tedd Chan, Stella Chung, Henley Hii, Lawrence ...      Singapore   \n",
      "3  Elijah Wood, John C. Reilly, Jennifer Connelly...  United States   \n",
      "4  Jim Sturgess, Kevin Spacey, Kate Bosworth, Aar...  United States   \n",
      "\n",
      "          date_added  release_year rating   duration  \\\n",
      "0    August 14, 2020          2020  TV-MA  4 Seasons   \n",
      "1  December 23, 2016          2016  TV-MA     93 min   \n",
      "2  December 20, 2018          2011      R     78 min   \n",
      "3  November 16, 2017          2009  PG-13     80 min   \n",
      "4    January 1, 2020          2008  PG-13    123 min   \n",
      "\n",
      "                                           listed_in  \\\n",
      "0  International TV Shows, TV Dramas, TV Sci-Fi &...   \n",
      "1                       Dramas, International Movies   \n",
      "2                Horror Movies, International Movies   \n",
      "3  Action & Adventure, Independent Movies, Sci-Fi...   \n",
      "4                                             Dramas   \n",
      "\n",
      "                                         description  \n",
      "0  In a future where the elite inhabit an island ...  \n",
      "1  After a devastating earthquake hits Mexico Cit...  \n",
      "2  When an army recruit is found dead, his fellow...  \n",
      "3  In a postapocalyptic world, rag-doll robots hi...  \n",
      "4  A brilliant group of students become card-coun...  \n"
     ]
    }
   ],
   "source": [
    "print(movies_data.head())"
   ]
  },
  {
   "cell_type": "code",
   "execution_count": 6,
   "id": "1d4a2acb-8748-4bdd-918f-f20747259213",
   "metadata": {},
   "outputs": [
    {
     "data": {
      "text/html": [
       "<div>\n",
       "<style scoped>\n",
       "    .dataframe tbody tr th:only-of-type {\n",
       "        vertical-align: middle;\n",
       "    }\n",
       "\n",
       "    .dataframe tbody tr th {\n",
       "        vertical-align: top;\n",
       "    }\n",
       "\n",
       "    .dataframe thead th {\n",
       "        text-align: right;\n",
       "    }\n",
       "</style>\n",
       "<table border=\"1\" class=\"dataframe\">\n",
       "  <thead>\n",
       "    <tr style=\"text-align: right;\">\n",
       "      <th></th>\n",
       "      <th>release_year</th>\n",
       "    </tr>\n",
       "  </thead>\n",
       "  <tbody>\n",
       "    <tr>\n",
       "      <th>count</th>\n",
       "      <td>7787.000000</td>\n",
       "    </tr>\n",
       "    <tr>\n",
       "      <th>mean</th>\n",
       "      <td>2013.932580</td>\n",
       "    </tr>\n",
       "    <tr>\n",
       "      <th>std</th>\n",
       "      <td>8.757395</td>\n",
       "    </tr>\n",
       "    <tr>\n",
       "      <th>min</th>\n",
       "      <td>1925.000000</td>\n",
       "    </tr>\n",
       "    <tr>\n",
       "      <th>25%</th>\n",
       "      <td>2013.000000</td>\n",
       "    </tr>\n",
       "    <tr>\n",
       "      <th>50%</th>\n",
       "      <td>2017.000000</td>\n",
       "    </tr>\n",
       "    <tr>\n",
       "      <th>75%</th>\n",
       "      <td>2018.000000</td>\n",
       "    </tr>\n",
       "    <tr>\n",
       "      <th>max</th>\n",
       "      <td>2021.000000</td>\n",
       "    </tr>\n",
       "  </tbody>\n",
       "</table>\n",
       "</div>"
      ],
      "text/plain": [
       "       release_year\n",
       "count   7787.000000\n",
       "mean    2013.932580\n",
       "std        8.757395\n",
       "min     1925.000000\n",
       "25%     2013.000000\n",
       "50%     2017.000000\n",
       "75%     2018.000000\n",
       "max     2021.000000"
      ]
     },
     "execution_count": 6,
     "metadata": {},
     "output_type": "execute_result"
    }
   ],
   "source": [
    "movies_data.describe()"
   ]
  },
  {
   "cell_type": "markdown",
   "id": "5a2d5ac7-4b41-4510-9edc-c90b5cbc8d72",
   "metadata": {},
   "source": [
    "## Handling missing values"
   ]
  },
  {
   "cell_type": "code",
   "execution_count": 8,
   "id": "f65f9263-7db7-4d8b-8a32-525ce4dd6dca",
   "metadata": {},
   "outputs": [],
   "source": [
    "movies_data ['director'].fillna('Unknown', inplace=True)\n",
    "movies_data ['cast'].fillna('Unknown', inplace=True)\n",
    "movies_data ['country'].fillna('Unknown', inplace=True)\n",
    "movies_data ['rating'].fillna('Unknown', inplace=True)"
   ]
  },
  {
   "cell_type": "markdown",
   "id": "f973efee-0cb1-44e1-81ed-318f4e1280f8",
   "metadata": {},
   "source": [
    "## Droping rows with missing 'date_added'"
   ]
  },
  {
   "cell_type": "code",
   "execution_count": 9,
   "id": "a9998c8d-625d-4723-bc5f-b2744c2c4205",
   "metadata": {},
   "outputs": [],
   "source": [
    "movies_data.dropna(subset=['date_added'], inplace=True)"
   ]
  },
  {
   "cell_type": "code",
   "execution_count": 21,
   "id": "152ef8dc-cf07-44a4-9489-5c7d2f3114b3",
   "metadata": {},
   "outputs": [],
   "source": [
    "movies_data['duration_int'] = movies_data['duration'].str.extract('(\\\\d+)').astype(int)\n",
    "movies_data['duration_type'] = movies_data['duration'].str.extract('([a-zA-Z]+)').astype(str)"
   ]
  },
  {
   "cell_type": "code",
   "execution_count": 22,
   "id": "7370df04-07b0-4434-9d78-964c357ea1b0",
   "metadata": {},
   "outputs": [
    {
     "name": "stdout",
     "output_type": "stream",
     "text": [
      "Removed 0 duplicate rows\n"
     ]
    }
   ],
   "source": [
    "initial_shape = movies_data.shape\n",
    "movies_data.drop_duplicates(inplace=True)\n",
    "final_shape = movies_data.shape\n",
    "print(f\"Removed {initial_shape[0] - final_shape[0]} duplicate rows\")\n"
   ]
  },
  {
   "cell_type": "code",
   "execution_count": 24,
   "id": "1d07bea5-2687-4344-8272-d4e192a5dfc3",
   "metadata": {},
   "outputs": [],
   "source": [
    "output_path = \"netfilx_movies.csv\"\n",
    "movies_data.to_csv(output_path, index=False)"
   ]
  },
  {
   "cell_type": "code",
   "execution_count": null,
   "id": "f2abecc7-0243-4ab5-bc2f-0ad88573f6eb",
   "metadata": {},
   "outputs": [],
   "source": [
    "import os\n",
    "if os.path.exists(output_path):\n",
    "    print(f\"Your file was saved successfully as '{output_path}'.\")\n",
    "else:\n",
    "    print(\"File was not saved. Please check for errors.\")"
   ]
  }
 ],
 "metadata": {
  "kernelspec": {
   "display_name": "Python 3 (ipykernel)",
   "language": "python",
   "name": "python3"
  },
  "language_info": {
   "codemirror_mode": {
    "name": "ipython",
    "version": 3
   },
   "file_extension": ".py",
   "mimetype": "text/x-python",
   "name": "python",
   "nbconvert_exporter": "python",
   "pygments_lexer": "ipython3",
   "version": "3.12.7"
  }
 },
 "nbformat": 4,
 "nbformat_minor": 5
}
